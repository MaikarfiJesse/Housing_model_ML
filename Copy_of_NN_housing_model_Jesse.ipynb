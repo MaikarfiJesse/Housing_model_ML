{
  "nbformat": 4,
  "nbformat_minor": 0,
  "metadata": {
    "colab": {
      "provenance": [],
      "include_colab_link": true
    },
    "kernelspec": {
      "name": "python3",
      "display_name": "Python 3"
    },
    "language_info": {
      "name": "python"
    }
  },
  "cells": [
    {
      "cell_type": "markdown",
      "metadata": {
        "id": "view-in-github",
        "colab_type": "text"
      },
      "source": [
        "<a href=\"https://colab.research.google.com/github/MaikarfiJesse/Housing_model_ML/blob/main/Copy_of_NN_housing_model_Jesse.ipynb\" target=\"_parent\"><img src=\"https://colab.research.google.com/assets/colab-badge.svg\" alt=\"Open In Colab\"/></a>"
      ]
    },
    {
      "cell_type": "markdown",
      "source": [
        "# **PRJECT NAME: Housep**\n",
        "\n",
        "## Built by:\n",
        "\n",
        "1. **J.maikarfi1@alustudent.com**"
      ],
      "metadata": {
        "id": "gyC_P7HS_ihf"
      }
    },
    {
      "cell_type": "markdown",
      "source": [
        "# Case Study and Implementation\n",
        "\n",
        "Case Study Summary: House Data Classification\n",
        "\n",
        "\n",
        "# The Dataset\n",
        "**Short Description of the Data:**\n",
        "\n",
        "The dataset has a shape of (24326, 8) which is 24326 rows and 8 columns. The columns include bedrooms\tbathrooms\ttoilets\tparking_space\ttitle\ttown\tstate\tprice. While manipulating the dataset I removed some less important columns like title, town & state before training the model. The task is to develop a model that can learn and generalize from this data to accurately tell expected price of houses in Lagos."
      ],
      "metadata": {
        "id": "5sEkjdZbAHNN"
      }
    },
    {
      "cell_type": "markdown",
      "source": [
        "### Import Libraries"
      ],
      "metadata": {
        "id": "H6epZsPhyZ9C"
      }
    },
    {
      "cell_type": "code",
      "source": [
        "import pandas as pd\n",
        "import numpy as np\n",
        "import matplotlib.pyplot as plt\n",
        "\n",
        "import warnings\n",
        "warnings.filterwarnings('ignore')\n",
        "\n",
        "from sklearn.model_selection import train_test_split\n",
        "from sklearn.preprocessing import StandardScaler, OneHotEncoder\n",
        "from sklearn.metrics import accuracy_score, r2_score, mean_squared_error\n",
        "from keras.metrics import MeanSquaredError, MeanAbsoluteError\n",
        "from tensorflow.keras.layers import Dense, Flatten, Dropout\n",
        "from tensorflow.keras.optimizers import Adam\n",
        "from tensorflow.keras.losses import binary_crossentropy\n",
        "from tensorflow.keras.regularizers import l1, l2\n",
        "from tensorflow.keras.models import Sequential, load_model\n",
        "from keras.callbacks import EarlyStopping\n",
        "from sklearn.compose import ColumnTransformer\n"
      ],
      "metadata": {
        "id": "YTU4fr4HyX9L"
      },
      "execution_count": null,
      "outputs": []
    },
    {
      "cell_type": "markdown",
      "source": [
        "Connect Drive"
      ],
      "metadata": {
        "id": "HELoWc4oysT4"
      }
    },
    {
      "cell_type": "code",
      "source": [
        "from google.colab import drive\n",
        "drive.mount('/content/drive')\n"
      ],
      "metadata": {
        "colab": {
          "base_uri": "https://localhost:8080/"
        },
        "id": "WZPM1tMZyvxt",
        "outputId": "c55cebec-bb7c-4be5-ac40-c3ed5d0393f1"
      },
      "execution_count": null,
      "outputs": [
        {
          "output_type": "stream",
          "name": "stdout",
          "text": [
            "Mounted at /content/drive\n"
          ]
        }
      ]
    },
    {
      "cell_type": "markdown",
      "source": [
        "# Data Processing"
      ],
      "metadata": {
        "id": "WwryyknGy1Uv"
      }
    },
    {
      "cell_type": "code",
      "source": [
        "path = '/content/drive/MyDrive/nigeria_houses_data.csv'\n",
        "df = pd.read_csv(path, sep=',')\n",
        "print(df.shape)\n",
        "df.head()\n"
      ],
      "metadata": {
        "colab": {
          "base_uri": "https://localhost:8080/",
          "height": 223
        },
        "id": "f4v4Zigky4mi",
        "outputId": "7c7daefb-4fe6-44db-f479-8a47eb3fd35b"
      },
      "execution_count": null,
      "outputs": [
        {
          "output_type": "stream",
          "name": "stdout",
          "text": [
            "(24326, 8)\n"
          ]
        },
        {
          "output_type": "execute_result",
          "data": {
            "text/plain": [
              "   bedrooms  bathrooms  toilets  parking_space                 title     town  \\\n",
              "0       6.0        5.0      5.0            4.0       Detached Duplex  Mabushi   \n",
              "1       4.0        5.0      5.0            4.0     Terraced Duplexes  Katampe   \n",
              "2       4.0        5.0      5.0            4.0       Detached Duplex    Lekki   \n",
              "3       4.0        4.0      5.0            6.0       Detached Duplex     Ajah   \n",
              "4       4.0        4.0      5.0            2.0  Semi Detached Duplex    Lekki   \n",
              "\n",
              "   state        price  \n",
              "0  Abuja  450000000.0  \n",
              "1  Abuja  800000000.0  \n",
              "2  Lagos  120000000.0  \n",
              "3  Lagos   40000000.0  \n",
              "4  Lagos   75000000.0  "
            ],
            "text/html": [
              "\n",
              "  <div id=\"df-84a5a532-e16c-4103-a57d-2383fad19f47\" class=\"colab-df-container\">\n",
              "    <div>\n",
              "<style scoped>\n",
              "    .dataframe tbody tr th:only-of-type {\n",
              "        vertical-align: middle;\n",
              "    }\n",
              "\n",
              "    .dataframe tbody tr th {\n",
              "        vertical-align: top;\n",
              "    }\n",
              "\n",
              "    .dataframe thead th {\n",
              "        text-align: right;\n",
              "    }\n",
              "</style>\n",
              "<table border=\"1\" class=\"dataframe\">\n",
              "  <thead>\n",
              "    <tr style=\"text-align: right;\">\n",
              "      <th></th>\n",
              "      <th>bedrooms</th>\n",
              "      <th>bathrooms</th>\n",
              "      <th>toilets</th>\n",
              "      <th>parking_space</th>\n",
              "      <th>title</th>\n",
              "      <th>town</th>\n",
              "      <th>state</th>\n",
              "      <th>price</th>\n",
              "    </tr>\n",
              "  </thead>\n",
              "  <tbody>\n",
              "    <tr>\n",
              "      <th>0</th>\n",
              "      <td>6.0</td>\n",
              "      <td>5.0</td>\n",
              "      <td>5.0</td>\n",
              "      <td>4.0</td>\n",
              "      <td>Detached Duplex</td>\n",
              "      <td>Mabushi</td>\n",
              "      <td>Abuja</td>\n",
              "      <td>450000000.0</td>\n",
              "    </tr>\n",
              "    <tr>\n",
              "      <th>1</th>\n",
              "      <td>4.0</td>\n",
              "      <td>5.0</td>\n",
              "      <td>5.0</td>\n",
              "      <td>4.0</td>\n",
              "      <td>Terraced Duplexes</td>\n",
              "      <td>Katampe</td>\n",
              "      <td>Abuja</td>\n",
              "      <td>800000000.0</td>\n",
              "    </tr>\n",
              "    <tr>\n",
              "      <th>2</th>\n",
              "      <td>4.0</td>\n",
              "      <td>5.0</td>\n",
              "      <td>5.0</td>\n",
              "      <td>4.0</td>\n",
              "      <td>Detached Duplex</td>\n",
              "      <td>Lekki</td>\n",
              "      <td>Lagos</td>\n",
              "      <td>120000000.0</td>\n",
              "    </tr>\n",
              "    <tr>\n",
              "      <th>3</th>\n",
              "      <td>4.0</td>\n",
              "      <td>4.0</td>\n",
              "      <td>5.0</td>\n",
              "      <td>6.0</td>\n",
              "      <td>Detached Duplex</td>\n",
              "      <td>Ajah</td>\n",
              "      <td>Lagos</td>\n",
              "      <td>40000000.0</td>\n",
              "    </tr>\n",
              "    <tr>\n",
              "      <th>4</th>\n",
              "      <td>4.0</td>\n",
              "      <td>4.0</td>\n",
              "      <td>5.0</td>\n",
              "      <td>2.0</td>\n",
              "      <td>Semi Detached Duplex</td>\n",
              "      <td>Lekki</td>\n",
              "      <td>Lagos</td>\n",
              "      <td>75000000.0</td>\n",
              "    </tr>\n",
              "  </tbody>\n",
              "</table>\n",
              "</div>\n",
              "    <div class=\"colab-df-buttons\">\n",
              "\n",
              "  <div class=\"colab-df-container\">\n",
              "    <button class=\"colab-df-convert\" onclick=\"convertToInteractive('df-84a5a532-e16c-4103-a57d-2383fad19f47')\"\n",
              "            title=\"Convert this dataframe to an interactive table.\"\n",
              "            style=\"display:none;\">\n",
              "\n",
              "  <svg xmlns=\"http://www.w3.org/2000/svg\" height=\"24px\" viewBox=\"0 -960 960 960\">\n",
              "    <path d=\"M120-120v-720h720v720H120Zm60-500h600v-160H180v160Zm220 220h160v-160H400v160Zm0 220h160v-160H400v160ZM180-400h160v-160H180v160Zm440 0h160v-160H620v160ZM180-180h160v-160H180v160Zm440 0h160v-160H620v160Z\"/>\n",
              "  </svg>\n",
              "    </button>\n",
              "\n",
              "  <style>\n",
              "    .colab-df-container {\n",
              "      display:flex;\n",
              "      gap: 12px;\n",
              "    }\n",
              "\n",
              "    .colab-df-convert {\n",
              "      background-color: #E8F0FE;\n",
              "      border: none;\n",
              "      border-radius: 50%;\n",
              "      cursor: pointer;\n",
              "      display: none;\n",
              "      fill: #1967D2;\n",
              "      height: 32px;\n",
              "      padding: 0 0 0 0;\n",
              "      width: 32px;\n",
              "    }\n",
              "\n",
              "    .colab-df-convert:hover {\n",
              "      background-color: #E2EBFA;\n",
              "      box-shadow: 0px 1px 2px rgba(60, 64, 67, 0.3), 0px 1px 3px 1px rgba(60, 64, 67, 0.15);\n",
              "      fill: #174EA6;\n",
              "    }\n",
              "\n",
              "    .colab-df-buttons div {\n",
              "      margin-bottom: 4px;\n",
              "    }\n",
              "\n",
              "    [theme=dark] .colab-df-convert {\n",
              "      background-color: #3B4455;\n",
              "      fill: #D2E3FC;\n",
              "    }\n",
              "\n",
              "    [theme=dark] .colab-df-convert:hover {\n",
              "      background-color: #434B5C;\n",
              "      box-shadow: 0px 1px 3px 1px rgba(0, 0, 0, 0.15);\n",
              "      filter: drop-shadow(0px 1px 2px rgba(0, 0, 0, 0.3));\n",
              "      fill: #FFFFFF;\n",
              "    }\n",
              "  </style>\n",
              "\n",
              "    <script>\n",
              "      const buttonEl =\n",
              "        document.querySelector('#df-84a5a532-e16c-4103-a57d-2383fad19f47 button.colab-df-convert');\n",
              "      buttonEl.style.display =\n",
              "        google.colab.kernel.accessAllowed ? 'block' : 'none';\n",
              "\n",
              "      async function convertToInteractive(key) {\n",
              "        const element = document.querySelector('#df-84a5a532-e16c-4103-a57d-2383fad19f47');\n",
              "        const dataTable =\n",
              "          await google.colab.kernel.invokeFunction('convertToInteractive',\n",
              "                                                    [key], {});\n",
              "        if (!dataTable) return;\n",
              "\n",
              "        const docLinkHtml = 'Like what you see? Visit the ' +\n",
              "          '<a target=\"_blank\" href=https://colab.research.google.com/notebooks/data_table.ipynb>data table notebook</a>'\n",
              "          + ' to learn more about interactive tables.';\n",
              "        element.innerHTML = '';\n",
              "        dataTable['output_type'] = 'display_data';\n",
              "        await google.colab.output.renderOutput(dataTable, element);\n",
              "        const docLink = document.createElement('div');\n",
              "        docLink.innerHTML = docLinkHtml;\n",
              "        element.appendChild(docLink);\n",
              "      }\n",
              "    </script>\n",
              "  </div>\n",
              "\n",
              "\n",
              "<div id=\"df-6d6f3a7e-ed88-41f0-a786-c231097be5a3\">\n",
              "  <button class=\"colab-df-quickchart\" onclick=\"quickchart('df-6d6f3a7e-ed88-41f0-a786-c231097be5a3')\"\n",
              "            title=\"Suggest charts\"\n",
              "            style=\"display:none;\">\n",
              "\n",
              "<svg xmlns=\"http://www.w3.org/2000/svg\" height=\"24px\"viewBox=\"0 0 24 24\"\n",
              "     width=\"24px\">\n",
              "    <g>\n",
              "        <path d=\"M19 3H5c-1.1 0-2 .9-2 2v14c0 1.1.9 2 2 2h14c1.1 0 2-.9 2-2V5c0-1.1-.9-2-2-2zM9 17H7v-7h2v7zm4 0h-2V7h2v10zm4 0h-2v-4h2v4z\"/>\n",
              "    </g>\n",
              "</svg>\n",
              "  </button>\n",
              "\n",
              "<style>\n",
              "  .colab-df-quickchart {\n",
              "      --bg-color: #E8F0FE;\n",
              "      --fill-color: #1967D2;\n",
              "      --hover-bg-color: #E2EBFA;\n",
              "      --hover-fill-color: #174EA6;\n",
              "      --disabled-fill-color: #AAA;\n",
              "      --disabled-bg-color: #DDD;\n",
              "  }\n",
              "\n",
              "  [theme=dark] .colab-df-quickchart {\n",
              "      --bg-color: #3B4455;\n",
              "      --fill-color: #D2E3FC;\n",
              "      --hover-bg-color: #434B5C;\n",
              "      --hover-fill-color: #FFFFFF;\n",
              "      --disabled-bg-color: #3B4455;\n",
              "      --disabled-fill-color: #666;\n",
              "  }\n",
              "\n",
              "  .colab-df-quickchart {\n",
              "    background-color: var(--bg-color);\n",
              "    border: none;\n",
              "    border-radius: 50%;\n",
              "    cursor: pointer;\n",
              "    display: none;\n",
              "    fill: var(--fill-color);\n",
              "    height: 32px;\n",
              "    padding: 0;\n",
              "    width: 32px;\n",
              "  }\n",
              "\n",
              "  .colab-df-quickchart:hover {\n",
              "    background-color: var(--hover-bg-color);\n",
              "    box-shadow: 0 1px 2px rgba(60, 64, 67, 0.3), 0 1px 3px 1px rgba(60, 64, 67, 0.15);\n",
              "    fill: var(--button-hover-fill-color);\n",
              "  }\n",
              "\n",
              "  .colab-df-quickchart-complete:disabled,\n",
              "  .colab-df-quickchart-complete:disabled:hover {\n",
              "    background-color: var(--disabled-bg-color);\n",
              "    fill: var(--disabled-fill-color);\n",
              "    box-shadow: none;\n",
              "  }\n",
              "\n",
              "  .colab-df-spinner {\n",
              "    border: 2px solid var(--fill-color);\n",
              "    border-color: transparent;\n",
              "    border-bottom-color: var(--fill-color);\n",
              "    animation:\n",
              "      spin 1s steps(1) infinite;\n",
              "  }\n",
              "\n",
              "  @keyframes spin {\n",
              "    0% {\n",
              "      border-color: transparent;\n",
              "      border-bottom-color: var(--fill-color);\n",
              "      border-left-color: var(--fill-color);\n",
              "    }\n",
              "    20% {\n",
              "      border-color: transparent;\n",
              "      border-left-color: var(--fill-color);\n",
              "      border-top-color: var(--fill-color);\n",
              "    }\n",
              "    30% {\n",
              "      border-color: transparent;\n",
              "      border-left-color: var(--fill-color);\n",
              "      border-top-color: var(--fill-color);\n",
              "      border-right-color: var(--fill-color);\n",
              "    }\n",
              "    40% {\n",
              "      border-color: transparent;\n",
              "      border-right-color: var(--fill-color);\n",
              "      border-top-color: var(--fill-color);\n",
              "    }\n",
              "    60% {\n",
              "      border-color: transparent;\n",
              "      border-right-color: var(--fill-color);\n",
              "    }\n",
              "    80% {\n",
              "      border-color: transparent;\n",
              "      border-right-color: var(--fill-color);\n",
              "      border-bottom-color: var(--fill-color);\n",
              "    }\n",
              "    90% {\n",
              "      border-color: transparent;\n",
              "      border-bottom-color: var(--fill-color);\n",
              "    }\n",
              "  }\n",
              "</style>\n",
              "\n",
              "  <script>\n",
              "    async function quickchart(key) {\n",
              "      const quickchartButtonEl =\n",
              "        document.querySelector('#' + key + ' button');\n",
              "      quickchartButtonEl.disabled = true;  // To prevent multiple clicks.\n",
              "      quickchartButtonEl.classList.add('colab-df-spinner');\n",
              "      try {\n",
              "        const charts = await google.colab.kernel.invokeFunction(\n",
              "            'suggestCharts', [key], {});\n",
              "      } catch (error) {\n",
              "        console.error('Error during call to suggestCharts:', error);\n",
              "      }\n",
              "      quickchartButtonEl.classList.remove('colab-df-spinner');\n",
              "      quickchartButtonEl.classList.add('colab-df-quickchart-complete');\n",
              "    }\n",
              "    (() => {\n",
              "      let quickchartButtonEl =\n",
              "        document.querySelector('#df-6d6f3a7e-ed88-41f0-a786-c231097be5a3 button');\n",
              "      quickchartButtonEl.style.display =\n",
              "        google.colab.kernel.accessAllowed ? 'block' : 'none';\n",
              "    })();\n",
              "  </script>\n",
              "</div>\n",
              "    </div>\n",
              "  </div>\n"
            ],
            "application/vnd.google.colaboratory.intrinsic+json": {
              "type": "dataframe",
              "variable_name": "df",
              "summary": "{\n  \"name\": \"df\",\n  \"rows\": 24326,\n  \"fields\": [\n    {\n      \"column\": \"bedrooms\",\n      \"properties\": {\n        \"dtype\": \"number\",\n        \"std\": 1.1384974394638583,\n        \"min\": 1.0,\n        \"max\": 9.0,\n        \"num_unique_values\": 9,\n        \"samples\": [\n          9.0,\n          4.0,\n          3.0\n        ],\n        \"semantic_type\": \"\",\n        \"description\": \"\"\n      }\n    },\n    {\n      \"column\": \"bathrooms\",\n      \"properties\": {\n        \"dtype\": \"number\",\n        \"std\": 1.16316088691922,\n        \"min\": 1.0,\n        \"max\": 9.0,\n        \"num_unique_values\": 9,\n        \"samples\": [\n          7.0,\n          4.0,\n          3.0\n        ],\n        \"semantic_type\": \"\",\n        \"description\": \"\"\n      }\n    },\n    {\n      \"column\": \"toilets\",\n      \"properties\": {\n        \"dtype\": \"number\",\n        \"std\": 1.2262533973017904,\n        \"min\": 1.0,\n        \"max\": 9.0,\n        \"num_unique_values\": 9,\n        \"samples\": [\n          2.0,\n          6.0,\n          4.0\n        ],\n        \"semantic_type\": \"\",\n        \"description\": \"\"\n      }\n    },\n    {\n      \"column\": \"parking_space\",\n      \"properties\": {\n        \"dtype\": \"number\",\n        \"std\": 1.3999361198618585,\n        \"min\": 1.0,\n        \"max\": 9.0,\n        \"num_unique_values\": 9,\n        \"samples\": [\n          7.0,\n          6.0,\n          3.0\n        ],\n        \"semantic_type\": \"\",\n        \"description\": \"\"\n      }\n    },\n    {\n      \"column\": \"title\",\n      \"properties\": {\n        \"dtype\": \"category\",\n        \"num_unique_values\": 7,\n        \"samples\": [\n          \"Detached Duplex\",\n          \"Terraced Duplexes\",\n          \"Semi Detached Bungalow\"\n        ],\n        \"semantic_type\": \"\",\n        \"description\": \"\"\n      }\n    },\n    {\n      \"column\": \"town\",\n      \"properties\": {\n        \"dtype\": \"category\",\n        \"num_unique_values\": 189,\n        \"samples\": [\n          \"Ughelli North\",\n          \"Jos North\",\n          \"Yaba\"\n        ],\n        \"semantic_type\": \"\",\n        \"description\": \"\"\n      }\n    },\n    {\n      \"column\": \"state\",\n      \"properties\": {\n        \"dtype\": \"category\",\n        \"num_unique_values\": 25,\n        \"samples\": [\n          \"Enugu\",\n          \"Ekiti\",\n          \"Abuja\"\n        ],\n        \"semantic_type\": \"\",\n        \"description\": \"\"\n      }\n    },\n    {\n      \"column\": \"price\",\n      \"properties\": {\n        \"dtype\": \"number\",\n        \"std\": 12204027269.380901,\n        \"min\": 90000.0,\n        \"max\": 1800000000000.0,\n        \"num_unique_values\": 539,\n        \"samples\": [\n          199900000.0,\n          190000000.0,\n          65500000.0\n        ],\n        \"semantic_type\": \"\",\n        \"description\": \"\"\n      }\n    }\n  ]\n}"
            }
          },
          "metadata": {},
          "execution_count": 4
        }
      ]
    },
    {
      "cell_type": "code",
      "source": [
        "from google.colab import drive\n",
        "drive.mount('/content/drive')"
      ],
      "metadata": {
        "id": "OHoW91UTnXWC",
        "colab": {
          "base_uri": "https://localhost:8080/"
        },
        "outputId": "90d507a6-a65a-496d-bbd9-07fa6595a430"
      },
      "execution_count": null,
      "outputs": [
        {
          "output_type": "stream",
          "name": "stdout",
          "text": [
            "Drive already mounted at /content/drive; to attempt to forcibly remount, call drive.mount(\"/content/drive\", force_remount=True).\n"
          ]
        }
      ]
    },
    {
      "cell_type": "markdown",
      "source": [
        "### Test data"
      ],
      "metadata": {
        "id": "LtSF8FuDM79A"
      }
    },
    {
      "cell_type": "code",
      "source": [
        "# df.tail()\n",
        "\n",
        "# df.columns\n",
        "\n",
        "df.isnull().sum()\n",
        "\n",
        "# df.info()\n",
        "\n",
        "# df.describe()"
      ],
      "metadata": {
        "colab": {
          "base_uri": "https://localhost:8080/"
        },
        "id": "EZ0t7R7L1U0v",
        "outputId": "a2aeae77-0155-477a-ab4a-93fee2c63320"
      },
      "execution_count": null,
      "outputs": [
        {
          "output_type": "execute_result",
          "data": {
            "text/plain": [
              "bedrooms         0\n",
              "bathrooms        0\n",
              "toilets          0\n",
              "parking_space    0\n",
              "title            0\n",
              "town             0\n",
              "state            0\n",
              "price            0\n",
              "dtype: int64"
            ]
          },
          "metadata": {},
          "execution_count": 6
        }
      ]
    },
    {
      "cell_type": "markdown",
      "source": [
        "### Create Lagos dataframe and check for outliers"
      ],
      "metadata": {
        "id": "dBRkAmJwNLF9"
      }
    },
    {
      "cell_type": "code",
      "source": [
        "# Filter the dataset to include only rows where the 'state' column is 'Lagos'\n",
        "lagos_df = df[df['state'] == 'Lagos']\n",
        "\n",
        "# print(lagos_df.shape)\n",
        "# lagos_df.head()\n",
        "print(lagos_df[:4])\n",
        "\n",
        "# Draw a visualization of price values\n",
        "values = lagos_df['price'].values\n",
        "prices=[]\n",
        "for price in values:\n",
        "  price *=0.000001\n",
        "  prices.append(price)\n",
        "print(prices[0])\n",
        "\n",
        "# Plotting the box plot\n",
        "plt.figure(figsize=(8, 4))\n",
        "plt.boxplot(prices, vert=False, patch_artist=True)\n",
        "plt.title('Box Plot of Prices')\n",
        "plt.xlabel('Price')\n",
        "\n",
        "plt.tight_layout()\n",
        "plt.show()"
      ],
      "metadata": {
        "colab": {
          "base_uri": "https://localhost:8080/",
          "height": 615
        },
        "id": "-okNaur4y8eC",
        "outputId": "372267b0-b112-423b-f364-4fbfe9867c3b"
      },
      "execution_count": null,
      "outputs": [
        {
          "output_type": "stream",
          "name": "stdout",
          "text": [
            "   bedrooms  bathrooms  toilets  parking_space                 title   town  \\\n",
            "2       4.0        5.0      5.0            4.0       Detached Duplex  Lekki   \n",
            "3       4.0        4.0      5.0            6.0       Detached Duplex   Ajah   \n",
            "4       4.0        4.0      5.0            2.0  Semi Detached Duplex  Lekki   \n",
            "5       5.0        5.0      6.0            1.0       Detached Duplex  Lekki   \n",
            "\n",
            "   state        price  \n",
            "2  Lagos  120000000.0  \n",
            "3  Lagos   40000000.0  \n",
            "4  Lagos   75000000.0  \n",
            "5  Lagos  450000000.0  \n",
            "120.0\n"
          ]
        },
        {
          "output_type": "display_data",
          "data": {
            "text/plain": [
              "<Figure size 800x400 with 1 Axes>"
            ],
            "image/png": "[encoded data removed]"
          },
          "metadata": {}
        }
      ]
    },
    {
      "cell_type": "markdown",
      "source": [
        "### Remove Outliers"
      ],
      "metadata": {
        "id": "lhndLtf_Nb25"
      }
    },
    {
      "cell_type": "code",
      "source": [
        "# Assuming df is your DataFrame and 'price' is the column with outliers\n",
        "Q1 = lagos_df['price'].quantile(0.25)\n",
        "Q3 = lagos_df['price'].quantile(0.75)\n",
        "IQR = Q3 - Q1\n",
        "\n",
        "# Define outliers as those that are below (Q1 - 1.5 * IQR) or above (Q3 + 1.5 * IQR)\n",
        "outliers = (lagos_df['price'] < (Q1 - 1.5 * IQR)) | (lagos_df['price'] > (Q3 + 1.5 * IQR))\n",
        "\n",
        "# Remove outliers from the DataFrame\n",
        "df_no_outliers = lagos_df[~outliers]\n",
        "\n",
        "# Draw a visualization of price values\n",
        "values = df_no_outliers['price'].values\n",
        "prices=[]\n",
        "for price in values:\n",
        "  price *=0.001\n",
        "  prices.append(price)\n",
        "print(prices[0])\n",
        "\n",
        "# Plotting the box plot\n",
        "plt.figure(figsize=(8, 4))\n",
        "plt.boxplot(prices, vert=False, patch_artist=True)\n",
        "plt.title('Box Plot of Prices')\n",
        "plt.xlabel('Price')\n",
        "\n",
        "plt.tight_layout()\n",
        "plt.show()"
      ],
      "metadata": {
        "id": "QxZtzfF2ZfNj",
        "colab": {
          "base_uri": "https://localhost:8080/",
          "height": 424
        },
        "outputId": "1289fbb0-31b3-494f-e593-abc4d4ca5d0a"
      },
      "execution_count": null,
      "outputs": [
        {
          "output_type": "stream",
          "name": "stdout",
          "text": [
            "120000.0\n"
          ]
        },
        {
          "output_type": "display_data",
          "data": {
            "text/plain": [
              "<Figure size 800x400 with 1 Axes>"
            ],
            "image/png": "[encoded data removed]"
          },
          "metadata": {}
        }
      ]
    },
    {
      "cell_type": "markdown",
      "source": [
        "# Model Implementation"
      ],
      "metadata": {
        "id": "fSKH1s2h7RjU"
      }
    },
    {
      "cell_type": "markdown",
      "source": [
        "## 1. Without Regularization\n"
      ],
      "metadata": {
        "id": "uhHad91T7hp5"
      }
    },
    {
      "cell_type": "markdown",
      "source": [
        "### Split dataset to train, test and validation sets"
      ],
      "metadata": {
        "id": "3k-YEf8vN3xM"
      }
    },
    {
      "cell_type": "code",
      "source": [
        "# Dropping unused categorical features\n",
        "df_encoded = df_no_outliers.drop(['title', 'town', 'state'], axis=1)\n",
        "\n",
        "# Separate features and target from the filtered dataset\n",
        "X = df_encoded.drop('price', axis=1)\n",
        "print(X.columns)\n",
        "y = df_encoded['price']\n",
        "\n",
        "# Preprocessing\n",
        "numeric_features = ['bedrooms', 'bathrooms', 'toilets', 'parking_space']\n",
        "numeric_transformer = StandardScaler()\n",
        "\n",
        "# # Assuming 'title', 'town', 'state' are the categorical features you initially intended to encode\n",
        "categorical_features = ['title', 'town', 'state']\n",
        "categorical_transformer = OneHotEncoder(handle_unknown='ignore')\n",
        "\n",
        "preprocessor = ColumnTransformer(\n",
        "    transformers=[\n",
        "        ('num', numeric_transformer, numeric_features)])\n",
        "\n",
        "# Split the data into training and test sets\n",
        "X_train, X_test, y_train, y_test = train_test_split(X, y, test_size=0.2, random_state=42)\n",
        "\n",
        "# Further split X_train into training and validation sets\n",
        "X_train, X_val, y_train, y_val = train_test_split(X_train, y_train, test_size=0.25, random_state=42)\n",
        "\n",
        "# Preprocess the data\n",
        "X_train_preprocessed = preprocessor.fit_transform(X_train)\n",
        "X_val_preprocessed = preprocessor.transform(X_val)\n",
        "X_test_preprocessed = preprocessor.transform(X_test)\n",
        "\n",
        "# Adjust the input shape based on the preprocessed data\n",
        "input_shape = [X_train_preprocessed.shape[1]]\n",
        "print(input_shape)\n",
        "print(X_train.shape)\n"
      ],
      "metadata": {
        "colab": {
          "base_uri": "https://localhost:8080/"
        },
        "id": "obOJv4o0DEq7",
        "outputId": "00d51dcc-17ac-47fd-aec2-4dd6de8479d5"
      },
      "execution_count": null,
      "outputs": [
        {
          "output_type": "stream",
          "name": "stdout",
          "text": [
            "Index(['bedrooms', 'bathrooms', 'toilets', 'parking_space'], dtype='object')\n",
            "[4]\n",
            "(9906, 4)\n"
          ]
        }
      ]
    },
    {
      "cell_type": "markdown",
      "source": [
        "### 1. Model Architecture"
      ],
      "metadata": {
        "id": "UwyqNm4j8Glj"
      }
    },
    {
      "cell_type": "markdown",
      "source": [
        "Layers:\n",
        "\n",
        "    Input Dense Layer (500 Neurons). It has 500 neurons & applies a ReLU (Rectified Linear Unit) activation function.\n",
        "\n",
        "    Dense Layer with (256 Neurons) & applies the ReLU activation function.\n",
        "\n",
        "    Dense Layer with (128 Neurons) & applies the ReLU activation function.\n",
        "\n",
        "    Dense Layer with (64 Neurons) & applies the ReLU activation function.\n",
        "\n",
        "    Dense Layer (32 Neurons) & ReLU activation function for non-linearity.\n",
        "\n",
        "    Dense Layer with (16 Neurons) & applies the ReLU activation function.\n",
        "\n",
        "    Dense Layer with (8 Neurons) & applies the ReLU activation function.\n",
        "\n",
        "    Output Dense Layer (1 Neuron).\n"
      ],
      "metadata": {
        "id": "S6GMmyja8JKP"
      }
    },
    {
      "cell_type": "markdown",
      "source": [
        "### 2. Model Training"
      ],
      "metadata": {
        "id": "TABR9rjL7z6P"
      }
    },
    {
      "cell_type": "code",
      "source": [
        "# Create the model\n",
        "model = Sequential([\n",
        "    Dense(500, activation='relu', input_shape=input_shape),\n",
        "    Dense(256, activation='relu'),\n",
        "    Dense(128, activation='relu'),\n",
        "    Dense(64, activation='relu'),\n",
        "    Dense(32, activation='relu'),\n",
        "    Dense(16, activation='relu'),\n",
        "    Dense(8, activation='relu'),\n",
        "    Dense(1)\n",
        "])\n",
        "\n",
        "model.compile(optimizer=Adam(learning_rate=0.0001),\n",
        "              loss='mean_squared_error',\n",
        "              metrics=[MeanSquaredError(), MeanAbsoluteError()])\n",
        "\n",
        "model.summary()\n",
        "\n",
        "# Train the model\n",
        "train_model=model.fit(X_train_preprocessed, y_train,\n",
        "          validation_data=(X_val_preprocessed, y_val),\n",
        "          epochs=100,\n",
        "          batch_size=64)"
      ],
      "metadata": {
        "colab": {
          "base_uri": "https://localhost:8080/"
        },
        "id": "PoMFfTZwkLQ1",
        "outputId": "48ac8ef8-bebe-4db0-b5d8-f0050e3df80a"
      },
      "execution_count": null,
      "outputs": [
        {
          "output_type": "stream",
          "name": "stdout",
          "text": [
            "Model: \"sequential_1\"\n",
            "_________________________________________________________________\n",
            " Layer (type)                Output Shape              Param #   \n",
            "=================================================================\n",
            " dense_8 (Dense)             (None, 500)               2500      \n",
            "                                                                 \n",
            " dense_9 (Dense)             (None, 256)               128256    \n",
            "                                                                 \n",
            " dense_10 (Dense)            (None, 128)               32896     \n",
            "                                                                 \n",
            " dense_11 (Dense)            (None, 64)                8256      \n",
            "                                                                 \n",
            " dense_12 (Dense)            (None, 32)                2080      \n",
            "                                                                 \n",
            " dense_13 (Dense)            (None, 16)                528       \n",
            "                                                                 \n",
            " dense_14 (Dense)            (None, 8)                 136       \n",
            "                                                                 \n",
            " dense_15 (Dense)            (None, 1)                 9         \n",
            "                                                                 \n",
            "=================================================================\n",
            "Total params: 174661 (682.27 KB)\n",
            "Trainable params: 174661 (682.27 KB)\n",
            "Non-trainable params: 0 (0.00 Byte)\n",
            "_________________________________________________________________\n",
            "Epoch 1/100\n",
            "155/155 [==============================] - 2s 6ms/step - loss: 16858638916255744.0000 - mean_squared_error: 16858638916255744.0000 - mean_absolute_error: 107362944.0000 - val_loss: 18138140812247040.0000 - val_mean_squared_error: 18138140812247040.0000 - val_mean_absolute_error: 112073440.0000\n",
            "Epoch 2/100\n",
            "155/155 [==============================] - 1s 5ms/step - loss: 16858604556517376.0000 - mean_squared_error: 16858604556517376.0000 - mean_absolute_error: 107362824.0000 - val_loss: 18138035585548288.0000 - val_mean_squared_error: 18138035585548288.0000 - val_mean_absolute_error: 112072968.0000\n",
            "Epoch 3/100\n",
            "155/155 [==============================] - 1s 5ms/step - loss: 16857894813171712.0000 - mean_squared_error: 16857894813171712.0000 - mean_absolute_error: 107359688.0000 - val_loss: 18135903134285824.0000 - val_mean_squared_error: 18135903134285824.0000 - val_mean_absolute_error: 112064168.0000\n",
            "Epoch 4/100\n",
            "155/155 [==============================] - 1s 5ms/step - loss: 16850277688672256.0000 - mean_squared_error: 16850277688672256.0000 - mean_absolute_error: 107327064.0000 - val_loss: 18118104789811200.0000 - val_mean_squared_error: 18118104789811200.0000 - val_mean_absolute_error: 111991032.0000\n",
            "Epoch 5/100\n",
            "155/155 [==============================] - 1s 6ms/step - loss: 16806582838886400.0000 - mean_squared_error: 16806582838886400.0000 - mean_absolute_error: 107140256.0000 - val_loss: 18031200421543936.0000 - val_mean_squared_error: 18031200421543936.0000 - val_mean_absolute_error: 111635016.0000\n",
            "Epoch 6/100\n",
            "155/155 [==============================] - 1s 5ms/step - loss: 16633651349422080.0000 - mean_squared_error: 16633651349422080.0000 - mean_absolute_error: 106397832.0000 - val_loss: 17727058754928640.0000 - val_mean_squared_error: 17727058754928640.0000 - val_mean_absolute_error: 110385688.0000\n",
            "Epoch 7/100\n",
            "155/155 [==============================] - 1s 4ms/step - loss: 16112003949002752.0000 - mean_squared_error: 16112003949002752.0000 - mean_absolute_error: 104157488.0000 - val_loss: 16897315096756224.0000 - val_mean_squared_error: 16897315096756224.0000 - val_mean_absolute_error: 106927304.0000\n",
            "Epoch 8/100\n",
            "155/155 [==============================] - 1s 6ms/step - loss: 14883681957052416.0000 - mean_squared_error: 14883681957052416.0000 - mean_absolute_error: 98689240.0000 - val_loss: 15131594985570304.0000 - val_mean_squared_error: 15131594985570304.0000 - val_mean_absolute_error: 99385088.0000\n",
            "Epoch 9/100\n",
            "155/155 [==============================] - 2s 10ms/step - loss: 12610828213682176.0000 - mean_squared_error: 12610828213682176.0000 - mean_absolute_error: 88347664.0000 - val_loss: 12237236925890560.0000 - val_mean_squared_error: 12237236925890560.0000 - val_mean_absolute_error: 86434752.0000\n",
            "Epoch 10/100\n",
            "155/155 [==============================] - 2s 13ms/step - loss: 9609831484751872.0000 - mean_squared_error: 9609831484751872.0000 - mean_absolute_error: 74058200.0000 - val_loss: 9084818977456128.0000 - val_mean_squared_error: 9084818977456128.0000 - val_mean_absolute_error: 71612440.0000\n",
            "Epoch 11/100\n",
            "155/155 [==============================] - 2s 11ms/step - loss: 7266134940188672.0000 - mean_squared_error: 7266134940188672.0000 - mean_absolute_error: 62567324.0000 - val_loss: 7261021781622784.0000 - val_mean_squared_error: 7261021781622784.0000 - val_mean_absolute_error: 62410764.0000\n",
            "Epoch 12/100\n",
            "155/155 [==============================] - 1s 9ms/step - loss: 6362310612353024.0000 - mean_squared_error: 6362310612353024.0000 - mean_absolute_error: 57751584.0000 - val_loss: 6674041486180352.0000 - val_mean_squared_error: 6674041486180352.0000 - val_mean_absolute_error: 59246752.0000\n",
            "Epoch 13/100\n",
            "155/155 [==============================] - 1s 9ms/step - loss: 6105357751418880.0000 - mean_squared_error: 6105357751418880.0000 - mean_absolute_error: 56150804.0000 - val_loss: 6435110308020224.0000 - val_mean_squared_error: 6435110308020224.0000 - val_mean_absolute_error: 57818704.0000\n",
            "Epoch 14/100\n",
            "155/155 [==============================] - 1s 9ms/step - loss: 5946173915398144.0000 - mean_squared_error: 5946173915398144.0000 - mean_absolute_error: 55090280.0000 - val_loss: 6253770346332160.0000 - val_mean_squared_error: 6253770346332160.0000 - val_mean_absolute_error: 56665852.0000\n",
            "Epoch 15/100\n",
            "155/155 [==============================] - 2s 11ms/step - loss: 5794897651040256.0000 - mean_squared_error: 5794897651040256.0000 - mean_absolute_error: 54106228.0000 - val_loss: 6075845420515328.0000 - val_mean_squared_error: 6075845420515328.0000 - val_mean_absolute_error: 55527012.0000\n",
            "Epoch 16/100\n",
            "155/155 [==============================] - 2s 11ms/step - loss: 5650945916534784.0000 - mean_squared_error: 5650945916534784.0000 - mean_absolute_error: 53151716.0000 - val_loss: 5918686661574656.0000 - val_mean_squared_error: 5918686661574656.0000 - val_mean_absolute_error: 54502240.0000\n",
            "Epoch 17/100\n",
            "155/155 [==============================] - 2s 14ms/step - loss: 5509257629794304.0000 - mean_squared_error: 5509257629794304.0000 - mean_absolute_error: 52261180.0000 - val_loss: 5774909946986496.0000 - val_mean_squared_error: 5774909946986496.0000 - val_mean_absolute_error: 53583768.0000\n",
            "Epoch 18/100\n",
            "155/155 [==============================] - 2s 12ms/step - loss: 5376587163762688.0000 - mean_squared_error: 5376587163762688.0000 - mean_absolute_error: 51457476.0000 - val_loss: 5629059836936192.0000 - val_mean_squared_error: 5629059836936192.0000 - val_mean_absolute_error: 52726252.0000\n",
            "Epoch 19/100\n",
            "155/155 [==============================] - 2s 10ms/step - loss: 5249922672623616.0000 - mean_squared_error: 5249922672623616.0000 - mean_absolute_error: 50710712.0000 - val_loss: 5484590022000640.0000 - val_mean_squared_error: 5484590022000640.0000 - val_mean_absolute_error: 51906704.0000\n",
            "Epoch 20/100\n",
            "155/155 [==============================] - 2s 10ms/step - loss: 5129372604301312.0000 - mean_squared_error: 5129372604301312.0000 - mean_absolute_error: 50023116.0000 - val_loss: 5364564476559360.0000 - val_mean_squared_error: 5364564476559360.0000 - val_mean_absolute_error: 51187800.0000\n",
            "Epoch 21/100\n",
            "155/155 [==============================] - 1s 9ms/step - loss: 5018031482732544.0000 - mean_squared_error: 5018031482732544.0000 - mean_absolute_error: 49413216.0000 - val_loss: 5246788420239360.0000 - val_mean_squared_error: 5246788420239360.0000 - val_mean_absolute_error: 50509604.0000\n",
            "Epoch 22/100\n",
            "155/155 [==============================] - 2s 10ms/step - loss: 4914370299559936.0000 - mean_squared_error: 4914370299559936.0000 - mean_absolute_error: 48887624.0000 - val_loss: 5136290722873344.0000 - val_mean_squared_error: 5136290722873344.0000 - val_mean_absolute_error: 49968744.0000\n",
            "Epoch 23/100\n",
            "155/155 [==============================] - 1s 8ms/step - loss: 4817720650498048.0000 - mean_squared_error: 4817720650498048.0000 - mean_absolute_error: 48394384.0000 - val_loss: 5034140831318016.0000 - val_mean_squared_error: 5034140831318016.0000 - val_mean_absolute_error: 49482884.0000\n",
            "Epoch 24/100\n",
            "155/155 [==============================] - 1s 4ms/step - loss: 4729033870802944.0000 - mean_squared_error: 4729033870802944.0000 - mean_absolute_error: 48046228.0000 - val_loss: 4943280261300224.0000 - val_mean_squared_error: 4943280261300224.0000 - val_mean_absolute_error: 49081740.0000\n",
            "Epoch 25/100\n",
            "155/155 [==============================] - 1s 5ms/step - loss: 4648408744722432.0000 - mean_squared_error: 4648408744722432.0000 - mean_absolute_error: 47704160.0000 - val_loss: 4861668366483456.0000 - val_mean_squared_error: 4861668366483456.0000 - val_mean_absolute_error: 48720048.0000\n",
            "Epoch 26/100\n",
            "155/155 [==============================] - 1s 8ms/step - loss: 4575289073991680.0000 - mean_squared_error: 4575289073991680.0000 - mean_absolute_error: 47537756.0000 - val_loss: 4793801977626624.0000 - val_mean_squared_error: 4793801977626624.0000 - val_mean_absolute_error: 48384904.0000\n",
            "Epoch 27/100\n",
            "155/155 [==============================] - 1s 7ms/step - loss: 4510149452496896.0000 - mean_squared_error: 4510149452496896.0000 - mean_absolute_error: 47206928.0000 - val_loss: 4722293456502784.0000 - val_mean_squared_error: 4722293456502784.0000 - val_mean_absolute_error: 48173832.0000\n",
            "Epoch 28/100\n",
            "155/155 [==============================] - 1s 5ms/step - loss: 4453111749935104.0000 - mean_squared_error: 4453111749935104.0000 - mean_absolute_error: 47029716.0000 - val_loss: 4670670633959424.0000 - val_mean_squared_error: 4670670633959424.0000 - val_mean_absolute_error: 47905240.0000\n",
            "Epoch 29/100\n",
            "155/155 [==============================] - 1s 5ms/step - loss: 4400990174314496.0000 - mean_squared_error: 4400990174314496.0000 - mean_absolute_error: 46889544.0000 - val_loss: 4615036311961600.0000 - val_mean_squared_error: 4615036311961600.0000 - val_mean_absolute_error: 47792192.0000\n",
            "Epoch 30/100\n",
            "155/155 [==============================] - 1s 4ms/step - loss: 4355425940013056.0000 - mean_squared_error: 4355425940013056.0000 - mean_absolute_error: 46766216.0000 - val_loss: 4571507355287552.0000 - val_mean_squared_error: 4571507355287552.0000 - val_mean_absolute_error: 47667020.0000\n",
            "Epoch 31/100\n",
            "155/155 [==============================] - 1s 5ms/step - loss: 4315654811287552.0000 - mean_squared_error: 4315654811287552.0000 - mean_absolute_error: 46677752.0000 - val_loss: 4530461426581504.0000 - val_mean_squared_error: 4530461426581504.0000 - val_mean_absolute_error: 47575380.0000\n",
            "Epoch 32/100\n",
            "155/155 [==============================] - 1s 5ms/step - loss: 4280734579687424.0000 - mean_squared_error: 4280734579687424.0000 - mean_absolute_error: 46683208.0000 - val_loss: 4502723185606656.0000 - val_mean_squared_error: 4502723185606656.0000 - val_mean_absolute_error: 47415412.0000\n",
            "Epoch 33/100\n",
            "155/155 [==============================] - 1s 4ms/step - loss: 4249959528398848.0000 - mean_squared_error: 4249959528398848.0000 - mean_absolute_error: 46613772.0000 - val_loss: 4463369205579776.0000 - val_mean_squared_error: 4463369205579776.0000 - val_mean_absolute_error: 47514240.0000\n",
            "Epoch 34/100\n",
            "155/155 [==============================] - 1s 5ms/step - loss: 4222311213301760.0000 - mean_squared_error: 4222311213301760.0000 - mean_absolute_error: 46560904.0000 - val_loss: 4437927966801920.0000 - val_mean_squared_error: 4437927966801920.0000 - val_mean_absolute_error: 47430468.0000\n",
            "Epoch 35/100\n",
            "155/155 [==============================] - 1s 5ms/step - loss: 4198857202204672.0000 - mean_squared_error: 4198857202204672.0000 - mean_absolute_error: 46537920.0000 - val_loss: 4416331529060352.0000 - val_mean_squared_error: 4416331529060352.0000 - val_mean_absolute_error: 47345544.0000\n",
            "Epoch 36/100\n",
            "155/155 [==============================] - 1s 5ms/step - loss: 4177355790614528.0000 - mean_squared_error: 4177355790614528.0000 - mean_absolute_error: 46527652.0000 - val_loss: 4393832879751168.0000 - val_mean_squared_error: 4393832879751168.0000 - val_mean_absolute_error: 47344244.0000\n",
            "Epoch 37/100\n",
            "155/155 [==============================] - 1s 5ms/step - loss: 4160041435267072.0000 - mean_squared_error: 4160041435267072.0000 - mean_absolute_error: 46509416.0000 - val_loss: 4377608640790528.0000 - val_mean_squared_error: 4377608640790528.0000 - val_mean_absolute_error: 47274532.0000\n",
            "Epoch 38/100\n",
            "155/155 [==============================] - 1s 5ms/step - loss: 4143955709001728.0000 - mean_squared_error: 4143955709001728.0000 - mean_absolute_error: 46572312.0000 - val_loss: 4368841538797568.0000 - val_mean_squared_error: 4368841538797568.0000 - val_mean_absolute_error: 47146032.0000\n",
            "Epoch 39/100\n",
            "155/155 [==============================] - 1s 5ms/step - loss: 4131062217179136.0000 - mean_squared_error: 4131062217179136.0000 - mean_absolute_error: 46400352.0000 - val_loss: 4348561776967680.0000 - val_mean_squared_error: 4348561776967680.0000 - val_mean_absolute_error: 47229752.0000\n",
            "Epoch 40/100\n",
            "155/155 [==============================] - 1s 5ms/step - loss: 4117565282451456.0000 - mean_squared_error: 4117565282451456.0000 - mean_absolute_error: 46511912.0000 - val_loss: 4339279547334656.0000 - val_mean_squared_error: 4339279547334656.0000 - val_mean_absolute_error: 47168272.0000\n",
            "Epoch 41/100\n",
            "155/155 [==============================] - 1s 7ms/step - loss: 4107232396443648.0000 - mean_squared_error: 4107232396443648.0000 - mean_absolute_error: 46441252.0000 - val_loss: 4325038777958400.0000 - val_mean_squared_error: 4325038777958400.0000 - val_mean_absolute_error: 47208768.0000\n",
            "Epoch 42/100\n",
            "155/155 [==============================] - 1s 8ms/step - loss: 4097874736447488.0000 - mean_squared_error: 4097874736447488.0000 - mean_absolute_error: 46334316.0000 - val_loss: 4309653131362304.0000 - val_mean_squared_error: 4309653131362304.0000 - val_mean_absolute_error: 47323160.0000\n",
            "Epoch 43/100\n",
            "155/155 [==============================] - 1s 5ms/step - loss: 4090512625631232.0000 - mean_squared_error: 4090512625631232.0000 - mean_absolute_error: 46499420.0000 - val_loss: 4308814538997760.0000 - val_mean_squared_error: 4308814538997760.0000 - val_mean_absolute_error: 47161016.0000\n",
            "Epoch 44/100\n",
            "155/155 [==============================] - 1s 6ms/step - loss: 4082810138656768.0000 - mean_squared_error: 4082810138656768.0000 - mean_absolute_error: 46361972.0000 - val_loss: 4288238961295360.0000 - val_mean_squared_error: 4288238961295360.0000 - val_mean_absolute_error: 47461884.0000\n",
            "Epoch 45/100\n",
            "155/155 [==============================] - 1s 5ms/step - loss: 4078666837393408.0000 - mean_squared_error: 4078666837393408.0000 - mean_absolute_error: 46498536.0000 - val_loss: 4290946669740032.0000 - val_mean_squared_error: 4290946669740032.0000 - val_mean_absolute_error: 47209080.0000\n",
            "Epoch 46/100\n",
            "155/155 [==============================] - 1s 5ms/step - loss: 4072831319015424.0000 - mean_squared_error: 4072831319015424.0000 - mean_absolute_error: 46453764.0000 - val_loss: 4281311447482368.0000 - val_mean_squared_error: 4281311447482368.0000 - val_mean_absolute_error: 47289768.0000\n",
            "Epoch 47/100\n",
            "155/155 [==============================] - 1s 5ms/step - loss: 4067636287635456.0000 - mean_squared_error: 4067636287635456.0000 - mean_absolute_error: 46429836.0000 - val_loss: 4277024264814592.0000 - val_mean_squared_error: 4277024264814592.0000 - val_mean_absolute_error: 47254692.0000\n",
            "Epoch 48/100\n",
            "155/155 [==============================] - 1s 5ms/step - loss: 4063535667609600.0000 - mean_squared_error: 4063535667609600.0000 - mean_absolute_error: 46355592.0000 - val_loss: 4271366182273024.0000 - val_mean_squared_error: 4271366182273024.0000 - val_mean_absolute_error: 47273348.0000\n",
            "Epoch 49/100\n",
            "155/155 [==============================] - 1s 5ms/step - loss: 4060427721900032.0000 - mean_squared_error: 4060427721900032.0000 - mean_absolute_error: 46384748.0000 - val_loss: 4262752625360896.0000 - val_mean_squared_error: 4262752625360896.0000 - val_mean_absolute_error: 47380224.0000\n",
            "Epoch 50/100\n",
            "155/155 [==============================] - 1s 4ms/step - loss: 4057965900333056.0000 - mean_squared_error: 4057965900333056.0000 - mean_absolute_error: 46381504.0000 - val_loss: 4260546891218944.0000 - val_mean_squared_error: 4260546891218944.0000 - val_mean_absolute_error: 47326736.0000\n",
            "Epoch 51/100\n",
            "155/155 [==============================] - 1s 4ms/step - loss: 4054758365069312.0000 - mean_squared_error: 4054758365069312.0000 - mean_absolute_error: 46443220.0000 - val_loss: 4263181853655040.0000 - val_mean_squared_error: 4263181853655040.0000 - val_mean_absolute_error: 47146756.0000\n",
            "Epoch 52/100\n",
            "155/155 [==============================] - 1s 5ms/step - loss: 4051683168485376.0000 - mean_squared_error: 4051683168485376.0000 - mean_absolute_error: 46522636.0000 - val_loss: 4265743801647104.0000 - val_mean_squared_error: 4265743801647104.0000 - val_mean_absolute_error: 47035388.0000\n",
            "Epoch 53/100\n",
            "155/155 [==============================] - 1s 5ms/step - loss: 4050445412597760.0000 - mean_squared_error: 4050445412597760.0000 - mean_absolute_error: 46282212.0000 - val_loss: 4250203267792896.0000 - val_mean_squared_error: 4250203267792896.0000 - val_mean_absolute_error: 47323848.0000\n",
            "Epoch 54/100\n",
            "155/155 [==============================] - 1s 4ms/step - loss: 4047860110721024.0000 - mean_squared_error: 4047860110721024.0000 - mean_absolute_error: 46328112.0000 - val_loss: 4251675636269056.0000 - val_mean_squared_error: 4251675636269056.0000 - val_mean_absolute_error: 47211280.0000\n",
            "Epoch 55/100\n",
            "155/155 [==============================] - 1s 5ms/step - loss: 4046739929563136.0000 - mean_squared_error: 4046739929563136.0000 - mean_absolute_error: 46425388.0000 - val_loss: 4252446582898688.0000 - val_mean_squared_error: 4252446582898688.0000 - val_mean_absolute_error: 47122424.0000\n",
            "Epoch 56/100\n",
            "155/155 [==============================] - 1s 8ms/step - loss: 4045719874830336.0000 - mean_squared_error: 4045719874830336.0000 - mean_absolute_error: 46386724.0000 - val_loss: 4252068088905728.0000 - val_mean_squared_error: 4252068088905728.0000 - val_mean_absolute_error: 47076184.0000\n",
            "Epoch 57/100\n",
            "155/155 [==============================] - 1s 7ms/step - loss: 4044514868068352.0000 - mean_squared_error: 4044514868068352.0000 - mean_absolute_error: 46278772.0000 - val_loss: 4243709277241344.0000 - val_mean_squared_error: 4243709277241344.0000 - val_mean_absolute_error: 47223612.0000\n",
            "Epoch 58/100\n",
            "155/155 [==============================] - 1s 5ms/step - loss: 4043498839867392.0000 - mean_squared_error: 4043498839867392.0000 - mean_absolute_error: 46394516.0000 - val_loss: 4242727608778752.0000 - val_mean_squared_error: 4242727608778752.0000 - val_mean_absolute_error: 47194280.0000\n",
            "Epoch 59/100\n",
            "155/155 [==============================] - 1s 5ms/step - loss: 4042106733592576.0000 - mean_squared_error: 4042106733592576.0000 - mean_absolute_error: 46378512.0000 - val_loss: 4246601937715200.0000 - val_mean_squared_error: 4246601937715200.0000 - val_mean_absolute_error: 47066404.0000\n",
            "Epoch 60/100\n",
            "155/155 [==============================] - 1s 6ms/step - loss: 4041078357360640.0000 - mean_squared_error: 4041078357360640.0000 - mean_absolute_error: 46326656.0000 - val_loss: 4247382816456704.0000 - val_mean_squared_error: 4247382816456704.0000 - val_mean_absolute_error: 47026656.0000\n",
            "Epoch 61/100\n",
            "155/155 [==============================] - 1s 6ms/step - loss: 4039719000211456.0000 - mean_squared_error: 4039719000211456.0000 - mean_absolute_error: 46442444.0000 - val_loss: 4244464117743616.0000 - val_mean_squared_error: 4244464117743616.0000 - val_mean_absolute_error: 47044848.0000\n",
            "Epoch 62/100\n",
            "155/155 [==============================] - 1s 5ms/step - loss: 4039401172631552.0000 - mean_squared_error: 4039401172631552.0000 - mean_absolute_error: 46225476.0000 - val_loss: 4241339797471232.0000 - val_mean_squared_error: 4241339797471232.0000 - val_mean_absolute_error: 47076100.0000\n",
            "Epoch 63/100\n",
            "155/155 [==============================] - 1s 5ms/step - loss: 4038340047273984.0000 - mean_squared_error: 4038340047273984.0000 - mean_absolute_error: 46347840.0000 - val_loss: 4234637501005824.0000 - val_mean_squared_error: 4234637501005824.0000 - val_mean_absolute_error: 47212812.0000\n",
            "Epoch 64/100\n",
            "155/155 [==============================] - 1s 5ms/step - loss: 4036977468899328.0000 - mean_squared_error: 4036977468899328.0000 - mean_absolute_error: 46440324.0000 - val_loss: 4252247672225792.0000 - val_mean_squared_error: 4252247672225792.0000 - val_mean_absolute_error: 46829952.0000\n",
            "Epoch 65/100\n",
            "155/155 [==============================] - 1s 5ms/step - loss: 4037792170508288.0000 - mean_squared_error: 4037792170508288.0000 - mean_absolute_error: 46273868.0000 - val_loss: 4240994589474816.0000 - val_mean_squared_error: 4240994589474816.0000 - val_mean_absolute_error: 47003316.0000\n",
            "Epoch 66/100\n",
            "155/155 [==============================] - 1s 5ms/step - loss: 4037310328864768.0000 - mean_squared_error: 4037310328864768.0000 - mean_absolute_error: 46237016.0000 - val_loss: 4236082220630016.0000 - val_mean_squared_error: 4236082220630016.0000 - val_mean_absolute_error: 47103100.0000\n",
            "Epoch 67/100\n",
            "155/155 [==============================] - 1s 5ms/step - loss: 4036353893335040.0000 - mean_squared_error: 4036353893335040.0000 - mean_absolute_error: 46431420.0000 - val_loss: 4234947543957504.0000 - val_mean_squared_error: 4234947543957504.0000 - val_mean_absolute_error: 47084376.0000\n",
            "Epoch 68/100\n",
            "155/155 [==============================] - 1s 5ms/step - loss: 4035888426254336.0000 - mean_squared_error: 4035888426254336.0000 - mean_absolute_error: 46272692.0000 - val_loss: 4229362475859968.0000 - val_mean_squared_error: 4229362475859968.0000 - val_mean_absolute_error: 47218276.0000\n",
            "Epoch 69/100\n",
            "155/155 [==============================] - 1s 4ms/step - loss: 4036403285458944.0000 - mean_squared_error: 4036403285458944.0000 - mean_absolute_error: 46292496.0000 - val_loss: 4233744684679168.0000 - val_mean_squared_error: 4233744684679168.0000 - val_mean_absolute_error: 47073320.0000\n",
            "Epoch 70/100\n",
            "155/155 [==============================] - 1s 7ms/step - loss: 4036551998701568.0000 - mean_squared_error: 4036551998701568.0000 - mean_absolute_error: 46422480.0000 - val_loss: 4235129274761216.0000 - val_mean_squared_error: 4235129274761216.0000 - val_mean_absolute_error: 47015856.0000\n",
            "Epoch 71/100\n",
            "155/155 [==============================] - 1s 8ms/step - loss: 4035997411049472.0000 - mean_squared_error: 4035997411049472.0000 - mean_absolute_error: 46183792.0000 - val_loss: 4229167323283456.0000 - val_mean_squared_error: 4229167323283456.0000 - val_mean_absolute_error: 47159356.0000\n",
            "Epoch 72/100\n",
            "155/155 [==============================] - 1s 6ms/step - loss: 4034867029344256.0000 - mean_squared_error: 4034867029344256.0000 - mean_absolute_error: 46357264.0000 - val_loss: 4230243212591104.0000 - val_mean_squared_error: 4230243212591104.0000 - val_mean_absolute_error: 47103712.0000\n",
            "Epoch 73/100\n",
            "155/155 [==============================] - 1s 4ms/step - loss: 4034311367950336.0000 - mean_squared_error: 4034311367950336.0000 - mean_absolute_error: 46305688.0000 - val_loss: 4228631257677824.0000 - val_mean_squared_error: 4228631257677824.0000 - val_mean_absolute_error: 47125824.0000\n",
            "Epoch 74/100\n",
            "155/155 [==============================] - 1s 5ms/step - loss: 4034124000002048.0000 - mean_squared_error: 4034124000002048.0000 - mean_absolute_error: 46293844.0000 - val_loss: 4230926649262080.0000 - val_mean_squared_error: 4230926649262080.0000 - val_mean_absolute_error: 47041624.0000\n",
            "Epoch 75/100\n",
            "155/155 [==============================] - 1s 4ms/step - loss: 4033959717502976.0000 - mean_squared_error: 4033959717502976.0000 - mean_absolute_error: 46225368.0000 - val_loss: 4225353929195520.0000 - val_mean_squared_error: 4225353929195520.0000 - val_mean_absolute_error: 47182324.0000\n",
            "Epoch 76/100\n",
            "155/155 [==============================] - 1s 5ms/step - loss: 4033758659346432.0000 - mean_squared_error: 4033758659346432.0000 - mean_absolute_error: 46414740.0000 - val_loss: 4228469927968768.0000 - val_mean_squared_error: 4228469927968768.0000 - val_mean_absolute_error: 47072024.0000\n",
            "Epoch 77/100\n",
            "155/155 [==============================] - 1s 5ms/step - loss: 4033980923904000.0000 - mean_squared_error: 4033980923904000.0000 - mean_absolute_error: 46170904.0000 - val_loss: 4223311403810816.0000 - val_mean_squared_error: 4223311403810816.0000 - val_mean_absolute_error: 47213816.0000\n",
            "Epoch 78/100\n",
            "155/155 [==============================] - 1s 5ms/step - loss: 4033005966327808.0000 - mean_squared_error: 4033005966327808.0000 - mean_absolute_error: 46390420.0000 - val_loss: 4227284516995072.0000 - val_mean_squared_error: 4227284516995072.0000 - val_mean_absolute_error: 47075148.0000\n",
            "Epoch 79/100\n",
            "155/155 [==============================] - 1s 5ms/step - loss: 4033209708838912.0000 - mean_squared_error: 4033209708838912.0000 - mean_absolute_error: 46254648.0000 - val_loss: 4229058070052864.0000 - val_mean_squared_error: 4229058070052864.0000 - val_mean_absolute_error: 47020284.0000\n",
            "Epoch 80/100\n",
            "155/155 [==============================] - 1s 6ms/step - loss: 4032687601876992.0000 - mean_squared_error: 4032687601876992.0000 - mean_absolute_error: 46261264.0000 - val_loss: 4223132894232576.0000 - val_mean_squared_error: 4223132894232576.0000 - val_mean_absolute_error: 47170116.0000\n",
            "Epoch 81/100\n",
            "155/155 [==============================] - 1s 5ms/step - loss: 4032479832834048.0000 - mean_squared_error: 4032479832834048.0000 - mean_absolute_error: 46288116.0000 - val_loss: 4223743584894976.0000 - val_mean_squared_error: 4223743584894976.0000 - val_mean_absolute_error: 47130200.0000\n",
            "Epoch 82/100\n",
            "155/155 [==============================] - 1s 6ms/step - loss: 4032641162543104.0000 - mean_squared_error: 4032641162543104.0000 - mean_absolute_error: 46258960.0000 - val_loss: 4223010487664640.0000 - val_mean_squared_error: 4223010487664640.0000 - val_mean_absolute_error: 47156352.0000\n",
            "Epoch 83/100\n",
            "155/155 [==============================] - 1s 5ms/step - loss: 4032259984195584.0000 - mean_squared_error: 4032259984195584.0000 - mean_absolute_error: 46297724.0000 - val_loss: 4227100101836800.0000 - val_mean_squared_error: 4227100101836800.0000 - val_mean_absolute_error: 47031120.0000\n",
            "Epoch 84/100\n",
            "155/155 [==============================] - 1s 5ms/step - loss: 4032751221080064.0000 - mean_squared_error: 4032751221080064.0000 - mean_absolute_error: 46284724.0000 - val_loss: 4225112068849664.0000 - val_mean_squared_error: 4225112068849664.0000 - val_mean_absolute_error: 47082912.0000\n",
            "Epoch 85/100\n",
            "155/155 [==============================] - 1s 8ms/step - loss: 4032089527681024.0000 - mean_squared_error: 4032089527681024.0000 - mean_absolute_error: 46261964.0000 - val_loss: 4227570132320256.0000 - val_mean_squared_error: 4227570132320256.0000 - val_mean_absolute_error: 47016596.0000\n",
            "Epoch 86/100\n",
            "155/155 [==============================] - 1s 7ms/step - loss: 4032415945195520.0000 - mean_squared_error: 4032415945195520.0000 - mean_absolute_error: 46368060.0000 - val_loss: 4229221547245568.0000 - val_mean_squared_error: 4229221547245568.0000 - val_mean_absolute_error: 46963744.0000\n",
            "Epoch 87/100\n",
            "155/155 [==============================] - 1s 5ms/step - loss: 4031652246323200.0000 - mean_squared_error: 4031652246323200.0000 - mean_absolute_error: 46200164.0000 - val_loss: 4226667115446272.0000 - val_mean_squared_error: 4226667115446272.0000 - val_mean_absolute_error: 47010008.0000\n",
            "Epoch 88/100\n",
            "155/155 [==============================] - 1s 5ms/step - loss: 4032033693106176.0000 - mean_squared_error: 4032033693106176.0000 - mean_absolute_error: 46332184.0000 - val_loss: 4225163340021760.0000 - val_mean_squared_error: 4225163340021760.0000 - val_mean_absolute_error: 47028464.0000\n",
            "Epoch 89/100\n",
            "155/155 [==============================] - 1s 5ms/step - loss: 4031015517421568.0000 - mean_squared_error: 4031015517421568.0000 - mean_absolute_error: 46279412.0000 - val_loss: 4230603452973056.0000 - val_mean_squared_error: 4230603452973056.0000 - val_mean_absolute_error: 46917628.0000\n",
            "Epoch 90/100\n",
            "155/155 [==============================] - 1s 5ms/step - loss: 4031491453485056.0000 - mean_squared_error: 4031491453485056.0000 - mean_absolute_error: 46243436.0000 - val_loss: 4227931178008576.0000 - val_mean_squared_error: 4227931178008576.0000 - val_mean_absolute_error: 46982428.0000\n",
            "Epoch 91/100\n",
            "155/155 [==============================] - 1s 6ms/step - loss: 4031150540455936.0000 - mean_squared_error: 4031150540455936.0000 - mean_absolute_error: 46300752.0000 - val_loss: 4226238424023040.0000 - val_mean_squared_error: 4226238424023040.0000 - val_mean_absolute_error: 47011528.0000\n",
            "Epoch 92/100\n",
            "155/155 [==============================] - 1s 5ms/step - loss: 4031520981385216.0000 - mean_squared_error: 4031520981385216.0000 - mean_absolute_error: 46252420.0000 - val_loss: 4225418622140416.0000 - val_mean_squared_error: 4225418622140416.0000 - val_mean_absolute_error: 47015336.0000\n",
            "Epoch 93/100\n",
            "155/155 [==============================] - 1s 5ms/step - loss: 4031469710213120.0000 - mean_squared_error: 4031469710213120.0000 - mean_absolute_error: 46194904.0000 - val_loss: 4221081778913280.0000 - val_mean_squared_error: 4221081778913280.0000 - val_mean_absolute_error: 47136368.0000\n",
            "Epoch 94/100\n",
            "155/155 [==============================] - 1s 5ms/step - loss: 4030195178668032.0000 - mean_squared_error: 4030195178668032.0000 - mean_absolute_error: 46182976.0000 - val_loss: 4214736501604352.0000 - val_mean_squared_error: 4214736501604352.0000 - val_mean_absolute_error: 47305932.0000\n",
            "Epoch 95/100\n",
            "155/155 [==============================] - 1s 5ms/step - loss: 4032614318997504.0000 - mean_squared_error: 4032614318997504.0000 - mean_absolute_error: 46345204.0000 - val_loss: 4223473270390784.0000 - val_mean_squared_error: 4223473270390784.0000 - val_mean_absolute_error: 47029516.0000\n",
            "Epoch 96/100\n",
            "155/155 [==============================] - 1s 5ms/step - loss: 4030973373054976.0000 - mean_squared_error: 4030973373054976.0000 - mean_absolute_error: 46353204.0000 - val_loss: 4224938122674176.0000 - val_mean_squared_error: 4224938122674176.0000 - val_mean_absolute_error: 46996560.0000\n",
            "Epoch 97/100\n",
            "155/155 [==============================] - 1s 5ms/step - loss: 4031504875257856.0000 - mean_squared_error: 4031504875257856.0000 - mean_absolute_error: 46209132.0000 - val_loss: 4222155520737280.0000 - val_mean_squared_error: 4222155520737280.0000 - val_mean_absolute_error: 47067480.0000\n",
            "Epoch 98/100\n",
            "155/155 [==============================] - 1s 6ms/step - loss: 4032033693106176.0000 - mean_squared_error: 4032033693106176.0000 - mean_absolute_error: 46238940.0000 - val_loss: 4228138410180608.0000 - val_mean_squared_error: 4228138410180608.0000 - val_mean_absolute_error: 46936824.0000\n",
            "Epoch 99/100\n",
            "155/155 [==============================] - 1s 8ms/step - loss: 4030680778407936.0000 - mean_squared_error: 4030680778407936.0000 - mean_absolute_error: 46148108.0000 - val_loss: 4216031702679552.0000 - val_mean_squared_error: 4216031702679552.0000 - val_mean_absolute_error: 47244076.0000\n",
            "Epoch 100/100\n",
            "155/155 [==============================] - 1s 7ms/step - loss: 4030746545094656.0000 - mean_squared_error: 4030746545094656.0000 - mean_absolute_error: 46430760.0000 - val_loss: 4225616727506944.0000 - val_mean_squared_error: 4225616727506944.0000 - val_mean_absolute_error: 46983012.0000\n"
          ]
        }
      ]
    },
    {
      "cell_type": "code",
      "source": [
        "# Create the model\n",
        "l2_model = Sequential([\n",
        "    Dense(500, activation='relu', input_shape=input_shape, kernel_regularizer=l2(0.001)),\n",
        "    Dense(256, activation='relu'),\n",
        "    Dropout(0.25),\n",
        "    Dense(128, activation='relu'),\n",
        "    Dense(64, activation='relu'),\n",
        "    Dropout(0.25),\n",
        "    Dense(32, activation='relu'),\n",
        "    Dense(16, activation='relu'),\n",
        "    Dropout(0.3),\n",
        "    Dense(8, activation='relu'),\n",
        "    Dense(1)\n",
        "])\n",
        "\n",
        "l2_model.compile(optimizer=Adam(learning_rate=0.0001),\n",
        "              loss='mean_squared_error',\n",
        "              metrics=[MeanSquaredError(), MeanAbsoluteError()])\n",
        "\n",
        "l2_model.summary()\n",
        "\n",
        "es = EarlyStopping(monitor='val_loss', mode='min', verbose=1)\n",
        "\n",
        "# Train the model\n",
        "train_model=l2_model.fit(X_train_preprocessed, y_train,\n",
        "          validation_data=(X_val_preprocessed, y_val),\n",
        "          epochs=100,\n",
        "          batch_size=42,\n",
        "          callbacks=[es])"
      ],
      "metadata": {
        "colab": {
          "base_uri": "https://localhost:8080/"
        },
        "id": "4ICjeUIGLtPg",
        "outputId": "cc5f3780-889f-4a11-8a01-d0bb03d3b1fd"
      },
      "execution_count": null,
      "outputs": [
        {
          "output_type": "stream",
          "name": "stdout",
          "text": [
            "Model: \"sequential_2\"\n",
            "_________________________________________________________________\n",
            " Layer (type)                Output Shape              Param #   \n",
            "=================================================================\n",
            " dense_16 (Dense)            (None, 500)               2500      \n",
            "                                                                 \n",
            " dense_17 (Dense)            (None, 256)               128256    \n",
            "                                                                 \n",
            " dropout (Dropout)           (None, 256)               0         \n",
            "                                                                 \n",
            " dense_18 (Dense)            (None, 128)               32896     \n",
            "                                                                 \n",
            " dense_19 (Dense)            (None, 64)                8256      \n",
            "                                                                 \n",
            " dropout_1 (Dropout)         (None, 64)                0         \n",
            "                                                                 \n",
            " dense_20 (Dense)            (None, 32)                2080      \n",
            "                                                                 \n",
            " dense_21 (Dense)            (None, 16)                528       \n",
            "                                                                 \n",
            " dropout_2 (Dropout)         (None, 16)                0         \n",
            "                                                                 \n",
            " dense_22 (Dense)            (None, 8)                 136       \n",
            "                                                                 \n",
            " dense_23 (Dense)            (None, 1)                 9         \n",
            "                                                                 \n",
            "=================================================================\n",
            "Total params: 174661 (682.27 KB)\n",
            "Trainable params: 174661 (682.27 KB)\n",
            "Non-trainable params: 0 (0.00 Byte)\n",
            "_________________________________________________________________\n",
            "Epoch 1/100\n",
            "236/236 [==============================] - 2s 5ms/step - loss: 16858618515161088.0000 - mean_squared_error: 16858618515161088.0000 - mean_absolute_error: 107362864.0000 - val_loss: 18137999078326272.0000 - val_mean_squared_error: 18137999078326272.0000 - val_mean_absolute_error: 112072800.0000\n",
            "Epoch 2/100\n",
            "236/236 [==============================] - 1s 4ms/step - loss: 16853244437331968.0000 - mean_squared_error: 16853244437331968.0000 - mean_absolute_error: 107339512.0000 - val_loss: 18113822707417088.0000 - val_mean_squared_error: 18113822707417088.0000 - val_mean_absolute_error: 111971976.0000\n",
            "Epoch 3/100\n",
            "236/236 [==============================] - 1s 4ms/step - loss: 16679885598621696.0000 - mean_squared_error: 16679885598621696.0000 - mean_absolute_error: 106593520.0000 - val_loss: 17588097235550208.0000 - val_mean_squared_error: 17588097235550208.0000 - val_mean_absolute_error: 109791088.0000\n",
            "Epoch 4/100\n",
            "236/236 [==============================] - 1s 5ms/step - loss: 14987386089897984.0000 - mean_squared_error: 14987386089897984.0000 - mean_absolute_error: 99069792.0000 - val_loss: 13951242409607168.0000 - val_mean_squared_error: 13951242409607168.0000 - val_mean_absolute_error: 94152440.0000\n",
            "Epoch 5/100\n",
            "236/236 [==============================] - 1s 4ms/step - loss: 9737977202737152.0000 - mean_squared_error: 9737977202737152.0000 - mean_absolute_error: 74511888.0000 - val_loss: 7694945011892224.0000 - val_mean_squared_error: 7694945011892224.0000 - val_mean_absolute_error: 64583908.0000\n",
            "Epoch 6/100\n",
            "236/236 [==============================] - 2s 7ms/step - loss: 6857930510958592.0000 - mean_squared_error: 6857931047829504.0000 - mean_absolute_error: 59878832.0000 - val_loss: 6496148235747328.0000 - val_mean_squared_error: 6496148235747328.0000 - val_mean_absolute_error: 58041256.0000\n",
            "Epoch 7/100\n",
            "236/236 [==============================] - 1s 5ms/step - loss: 6495600627417088.0000 - mean_squared_error: 6495600627417088.0000 - mean_absolute_error: 57806556.0000 - val_loss: 6190070612623360.0000 - val_mean_squared_error: 6190070612623360.0000 - val_mean_absolute_error: 55984504.0000\n",
            "Epoch 8/100\n",
            "236/236 [==============================] - 1s 5ms/step - loss: 6243279351840768.0000 - mean_squared_error: 6243279351840768.0000 - mean_absolute_error: 56050256.0000 - val_loss: 5847635017596928.0000 - val_mean_squared_error: 5847635017596928.0000 - val_mean_absolute_error: 53835988.0000\n",
            "Epoch 9/100\n",
            "236/236 [==============================] - 1s 5ms/step - loss: 6063190836248576.0000 - mean_squared_error: 6063190836248576.0000 - mean_absolute_error: 54894972.0000 - val_loss: 5640147831881728.0000 - val_mean_squared_error: 5640147831881728.0000 - val_mean_absolute_error: 52344712.0000\n",
            "Epoch 10/100\n",
            "236/236 [==============================] - 1s 4ms/step - loss: 5730335702646784.0000 - mean_squared_error: 5730335702646784.0000 - mean_absolute_error: 53360592.0000 - val_loss: 5364228395368448.0000 - val_mean_squared_error: 5364228395368448.0000 - val_mean_absolute_error: 50815664.0000\n",
            "Epoch 11/100\n",
            "236/236 [==============================] - 1s 4ms/step - loss: 5547715303833600.0000 - mean_squared_error: 5547715840704512.0000 - mean_absolute_error: 52308172.0000 - val_loss: 5197320060665856.0000 - val_mean_squared_error: 5197320060665856.0000 - val_mean_absolute_error: 49729508.0000\n",
            "Epoch 12/100\n",
            "236/236 [==============================] - 1s 5ms/step - loss: 5406889768648704.0000 - mean_squared_error: 5406889768648704.0000 - mean_absolute_error: 51608240.0000 - val_loss: 4992288522502144.0000 - val_mean_squared_error: 4992288522502144.0000 - val_mean_absolute_error: 48766292.0000\n",
            "Epoch 13/100\n",
            "236/236 [==============================] - 1s 4ms/step - loss: 5286630147489792.0000 - mean_squared_error: 5286630147489792.0000 - mean_absolute_error: 51371276.0000 - val_loss: 4896765765484544.0000 - val_mean_squared_error: 4896765765484544.0000 - val_mean_absolute_error: 48147144.0000\n",
            "Epoch 14/100\n",
            "236/236 [==============================] - 1s 4ms/step - loss: 5191610975387648.0000 - mean_squared_error: 5191610975387648.0000 - mean_absolute_error: 50851548.0000 - val_loss: 4832743372357632.0000 - val_mean_squared_error: 4832743372357632.0000 - val_mean_absolute_error: 47614256.0000\n",
            "Epoch 15/100\n",
            "236/236 [==============================] - 1s 5ms/step - loss: 5120948562821120.0000 - mean_squared_error: 5120948562821120.0000 - mean_absolute_error: 50729800.0000 - val_loss: 4723426790998016.0000 - val_mean_squared_error: 4723426790998016.0000 - val_mean_absolute_error: 47245836.0000\n",
            "Epoch 16/100\n",
            "236/236 [==============================] - 1s 5ms/step - loss: 5005816595742720.0000 - mean_squared_error: 5005816595742720.0000 - mean_absolute_error: 50229448.0000 - val_loss: 4627582448304128.0000 - val_mean_squared_error: 4627582448304128.0000 - val_mean_absolute_error: 46980260.0000\n",
            "Epoch 17/100\n",
            "236/236 [==============================] - 2s 7ms/step - loss: 4939823886368768.0000 - mean_squared_error: 4939823886368768.0000 - mean_absolute_error: 49953640.0000 - val_loss: 4566969722339328.0000 - val_mean_squared_error: 4566969722339328.0000 - val_mean_absolute_error: 46769888.0000\n",
            "Epoch 18/100\n",
            "236/236 [==============================] - 1s 4ms/step - loss: 4873558446571520.0000 - mean_squared_error: 4873558446571520.0000 - mean_absolute_error: 49805680.0000 - val_loss: 4525006281244672.0000 - val_mean_squared_error: 4525006281244672.0000 - val_mean_absolute_error: 46606924.0000\n",
            "Epoch 19/100\n",
            "236/236 [==============================] - 1s 5ms/step - loss: 4851012552622080.0000 - mean_squared_error: 4851012552622080.0000 - mean_absolute_error: 49829284.0000 - val_loss: 4487704758714368.0000 - val_mean_squared_error: 4487704758714368.0000 - val_mean_absolute_error: 46479800.0000\n",
            "Epoch 20/100\n",
            "236/236 [==============================] - 1s 5ms/step - loss: 4901114419871744.0000 - mean_squared_error: 4901114419871744.0000 - mean_absolute_error: 49914548.0000 - val_loss: 4451779773202432.0000 - val_mean_squared_error: 4451779773202432.0000 - val_mean_absolute_error: 46456828.0000\n",
            "Epoch 21/100\n",
            "236/236 [==============================] - 1s 4ms/step - loss: 4865582155431936.0000 - mean_squared_error: 4865582155431936.0000 - mean_absolute_error: 49849740.0000 - val_loss: 4450643217481728.0000 - val_mean_squared_error: 4450643217481728.0000 - val_mean_absolute_error: 46307656.0000\n",
            "Epoch 22/100\n",
            "236/236 [==============================] - 1s 4ms/step - loss: 4857325080805376.0000 - mean_squared_error: 4857325080805376.0000 - mean_absolute_error: 49884796.0000 - val_loss: 4413502487789568.0000 - val_mean_squared_error: 4413502487789568.0000 - val_mean_absolute_error: 46325656.0000\n",
            "Epoch 23/100\n",
            "236/236 [==============================] - 1s 5ms/step - loss: 4823787828674560.0000 - mean_squared_error: 4823787828674560.0000 - mean_absolute_error: 49765924.0000 - val_loss: 4415290804797440.0000 - val_mean_squared_error: 4415290804797440.0000 - val_mean_absolute_error: 46232080.0000\n",
            "Epoch 23: early stopping\n"
          ]
        }
      ]
    },
    {
      "cell_type": "markdown",
      "source": [
        "### Print Test results. MSE & MAE"
      ],
      "metadata": {
        "id": "ueQ9wrBgPLvv"
      }
    },
    {
      "cell_type": "code",
      "source": [
        "# Evaluate the model\n",
        "test_metrics = model.evaluate(X_test_preprocessed, y_test)\n",
        "print(test_metrics)\n",
        "print(f\"Test MSE: {test_metrics[1]}\")\n",
        "print(f\"Test MAE: {test_metrics[2]}\")"
      ],
      "metadata": {
        "colab": {
          "base_uri": "https://localhost:8080/"
        },
        "id": "50D27hSAQDpy",
        "outputId": "85064817-702d-40ef-bd99-9387109616a0"
      },
      "execution_count": null,
      "outputs": [
        {
          "output_type": "stream",
          "name": "stdout",
          "text": [
            "104/104 [==============================] - 0s 2ms/step - loss: 3737535838683136.0000 - mean_squared_error: 3737535838683136.0000 - mean_absolute_error: 44458360.0000\n",
            "[3737535838683136.0, 3737535838683136.0, 44458360.0]\n",
            "Test MSE: 3737535838683136.0\n",
            "Test MAE: 44458360.0\n"
          ]
        }
      ]
    },
    {
      "cell_type": "code",
      "source": [
        "# Evaluate the model\n",
        "test_metrics = l2_model.evaluate(X_test_preprocessed, y_test)\n",
        "print(test_metrics)\n",
        "print(f\"Test MSE: {test_metrics[1]}\")\n",
        "print(f\"Test MAE: {test_metrics[2]}\")"
      ],
      "metadata": {
        "colab": {
          "base_uri": "https://localhost:8080/"
        },
        "id": "yec9V1QBOgR2",
        "outputId": "65130a35-9710-418b-c42b-7f8b1dadfb6e"
      },
      "execution_count": null,
      "outputs": [
        {
          "output_type": "stream",
          "name": "stdout",
          "text": [
            "104/104 [==============================] - 0s 3ms/step - loss: 3849587240468480.0000 - mean_squared_error: 3849587240468480.0000 - mean_absolute_error: 43430792.0000\n",
            "[3849587240468480.0, 3849587240468480.0, 43430792.0]\n",
            "Test MSE: 3849587240468480.0\n",
            "Test MAE: 43430792.0\n"
          ]
        }
      ]
    },
    {
      "cell_type": "markdown",
      "source": [
        "### Check mean Price of the trained model"
      ],
      "metadata": {
        "id": "2OHJeEGsPX49"
      }
    },
    {
      "cell_type": "code",
      "source": [
        "y_mean = y_train.mean()\n",
        "y_pred_baseline = [y_mean]*len(y_train)\n",
        "print(\"Mean price:\", y_mean)\n",
        "print(\"Baseline MSE:\", mean_squared_error(y_train, y_pred_baseline))"
      ],
      "metadata": {
        "colab": {
          "base_uri": "https://localhost:8080/"
        },
        "id": "39p3gYOHwaph",
        "outputId": "f700ce64-20d4-4e3a-c79c-5b400139d329"
      },
      "execution_count": null,
      "outputs": [
        {
          "output_type": "stream",
          "name": "stdout",
          "text": [
            "Mean price: 107362925.04613365\n",
            "Baseline MSE: 5331835914009688.0\n"
          ]
        }
      ]
    },
    {
      "cell_type": "markdown",
      "source": [
        "# Make Predictions"
      ],
      "metadata": {
        "id": "zStIrw9NzEx5"
      }
    },
    {
      "cell_type": "code",
      "source": [
        "# scaler = StandardScaler()\n",
        "scaler = StandardScaler().fit(X_train)\n",
        "\n",
        "def make_prediction(bedrooms, bathrooms, toilets, parking_space ):\n",
        "\n",
        "    data = {\"bedrooms\":bedrooms,\n",
        "            \"bathrooms\":bathrooms,\n",
        "            \"toilets\":toilets,\n",
        "            \"parking_space\": parking_space\n",
        "    }\n",
        "    # Convert new_data to DataFrame\n",
        "    data_df = pd.DataFrame([data])\n",
        "    data_encoded_df = pd.get_dummies(data_df)\n",
        "    new_data_scaled = scaler.transform(data_encoded_df)\n",
        "\n",
        "    predicted_price = model.predict(new_data_scaled)\n",
        "    # print(predicted_price)\n",
        "    print(f'Predicted Price: ₦{predicted_price[0][0]}')\n",
        "\n",
        "\n",
        "make_prediction(4, 5, 5, 4) ## expected ₦120M got ₦91,402,832\n",
        "make_prediction(4, 4, 5, 6) ## expected ₦120M got ₦97,701,544\n",
        "make_prediction(4, 4, 5, 2) ## expected ₦75M got ₦91,072,488\n",
        "make_prediction(5, 5, 6, 1) ## expected ₦450M got ₦140,743,104\n"
      ],
      "metadata": {
        "colab": {
          "base_uri": "https://localhost:8080/"
        },
        "id": "y1wzkUcnxuYM",
        "outputId": "d93aa7d1-801d-4cb5-f7d8-a59560445e98"
      },
      "execution_count": null,
      "outputs": [
        {
          "output_type": "stream",
          "name": "stdout",
          "text": [
            "1/1 [==============================] - 0s 96ms/step\n",
            "Predicted Price: ₦92898584.0\n",
            "1/1 [==============================] - 0s 18ms/step\n",
            "Predicted Price: ₦108757528.0\n",
            "1/1 [==============================] - 0s 15ms/step\n",
            "Predicted Price: ₦83093488.0\n",
            "1/1 [==============================] - 0s 15ms/step\n",
            "Predicted Price: ₦116456400.0\n"
          ]
        }
      ]
    },
    {
      "cell_type": "code",
      "source": [
        "# scaler = StandardScaler()\n",
        "scaler = StandardScaler().fit(X_train)\n",
        "\n",
        "def make_prediction(bedrooms, bathrooms, toilets, parking_space ):\n",
        "\n",
        "    data = {\"bedrooms\":bedrooms,\n",
        "            \"bathrooms\":bathrooms,\n",
        "            \"toilets\":toilets,\n",
        "            \"parking_space\": parking_space\n",
        "    }\n",
        "    # Convert new_data to DataFrame\n",
        "    data_df = pd.DataFrame([data])\n",
        "    data_encoded_df = pd.get_dummies(data_df)\n",
        "    new_data_scaled = scaler.transform(data_encoded_df)\n",
        "\n",
        "    predicted_price = l2_model.predict(new_data_scaled)\n",
        "    # print(predicted_price)\n",
        "    print(f'Predicted Price: ₦{predicted_price[0][0]}')\n",
        "\n",
        "\n",
        "make_prediction(4, 5, 5, 4) ## expected ₦120M got ₦92,844,680\n",
        "make_prediction(4, 4, 5, 6) ## expected ₦120M got ₦110,647,232\n",
        "make_prediction(4, 4, 5, 2) ## expected ₦75M got ₦82,775,976\n",
        "make_prediction(5, 5, 6, 1) ## expected ₦450M got ₦112,023,232\n"
      ],
      "metadata": {
        "colab": {
          "base_uri": "https://localhost:8080/"
        },
        "id": "ww1dClSnOtJK",
        "outputId": "fa59473a-2df8-44bc-fdbe-f3d62f83b176"
      },
      "execution_count": null,
      "outputs": [
        {
          "output_type": "stream",
          "name": "stdout",
          "text": [
            "1/1 [==============================] - 0s 70ms/step\n",
            "Predicted Price: ₦86616912.0\n",
            "1/1 [==============================] - 0s 17ms/step\n",
            "Predicted Price: ₦96591232.0\n",
            "1/1 [==============================] - 0s 15ms/step\n",
            "Predicted Price: ₦73518248.0\n",
            "1/1 [==============================] - 0s 15ms/step\n",
            "Predicted Price: ₦109454136.0\n"
          ]
        }
      ]
    }
  ]
}
